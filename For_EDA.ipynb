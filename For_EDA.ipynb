{
 "cells": [
  {
   "cell_type": "code",
   "execution_count": null,
   "id": "26c26e2f",
   "metadata": {},
   "outputs": [],
   "source": [
    "'''\n",
    "Подготовка датасета\n",
    "'''"
   ]
  },
  {
   "cell_type": "code",
   "execution_count": 2,
   "id": "1fe74cf0",
   "metadata": {},
   "outputs": [
    {
     "data": {
      "text/html": [
       "<div>\n",
       "<style scoped>\n",
       "    .dataframe tbody tr th:only-of-type {\n",
       "        vertical-align: middle;\n",
       "    }\n",
       "\n",
       "    .dataframe tbody tr th {\n",
       "        vertical-align: top;\n",
       "    }\n",
       "\n",
       "    .dataframe thead th {\n",
       "        text-align: right;\n",
       "    }\n",
       "</style>\n",
       "<table border=\"1\" class=\"dataframe\">\n",
       "  <thead>\n",
       "    <tr style=\"text-align: right;\">\n",
       "      <th></th>\n",
       "      <th>poster</th>\n",
       "      <th>title</th>\n",
       "      <th>certificate</th>\n",
       "      <th>runtime</th>\n",
       "      <th>genre</th>\n",
       "      <th>rating</th>\n",
       "      <th>about</th>\n",
       "      <th>director</th>\n",
       "      <th>stars</th>\n",
       "      <th>votes</th>\n",
       "      <th>gross_earn</th>\n",
       "    </tr>\n",
       "  </thead>\n",
       "  <tbody>\n",
       "    <tr>\n",
       "      <th>0</th>\n",
       "      <td>https://m.media-amazon.com/images/S/sash/4Fyxw...</td>\n",
       "      <td>The Shawshank Redemption</td>\n",
       "      <td>15</td>\n",
       "      <td>142 min</td>\n",
       "      <td>Drama</td>\n",
       "      <td>9.3</td>\n",
       "      <td>Two imprisoned men bond over a number of years...</td>\n",
       "      <td>Frank Darabont</td>\n",
       "      <td>('Tim Robbins',), ('Morgan Freeman',), ('Bob G...</td>\n",
       "      <td>26,26,905</td>\n",
       "      <td>$28.34M</td>\n",
       "    </tr>\n",
       "    <tr>\n",
       "      <th>1</th>\n",
       "      <td>https://m.media-amazon.com/images/S/sash/4Fyxw...</td>\n",
       "      <td>The Dark Knight</td>\n",
       "      <td>12A</td>\n",
       "      <td>152 min</td>\n",
       "      <td>Action, Crime, Drama</td>\n",
       "      <td>9.0</td>\n",
       "      <td>When the menace known as the Joker wreaks havo...</td>\n",
       "      <td>Christopher Nolan</td>\n",
       "      <td>('Christian Bale',), ('Heath Ledger',), ('Aaro...</td>\n",
       "      <td>25,98,173</td>\n",
       "      <td>$534.86M</td>\n",
       "    </tr>\n",
       "    <tr>\n",
       "      <th>2</th>\n",
       "      <td>https://m.media-amazon.com/images/S/sash/4Fyxw...</td>\n",
       "      <td>Inception</td>\n",
       "      <td>12A</td>\n",
       "      <td>148 min</td>\n",
       "      <td>Action, Adventure, Sci-Fi</td>\n",
       "      <td>8.8</td>\n",
       "      <td>A thief who steals corporate secrets through t...</td>\n",
       "      <td>Christopher Nolan</td>\n",
       "      <td>('Leonardo DiCaprio',), ('Joseph Gordon-Levitt...</td>\n",
       "      <td>23,04,062</td>\n",
       "      <td>$292.58M</td>\n",
       "    </tr>\n",
       "    <tr>\n",
       "      <th>3</th>\n",
       "      <td>https://m.media-amazon.com/images/S/sash/4Fyxw...</td>\n",
       "      <td>Fight Club</td>\n",
       "      <td>18</td>\n",
       "      <td>139 min</td>\n",
       "      <td>Drama</td>\n",
       "      <td>8.8</td>\n",
       "      <td>An insomniac office worker and a devil-may-car...</td>\n",
       "      <td>David Fincher</td>\n",
       "      <td>('Brad Pitt',), ('Edward Norton',), ('Meat Loa...</td>\n",
       "      <td>20,71,088</td>\n",
       "      <td>$37.03M</td>\n",
       "    </tr>\n",
       "    <tr>\n",
       "      <th>4</th>\n",
       "      <td>https://m.media-amazon.com/images/S/sash/4Fyxw...</td>\n",
       "      <td>Pulp Fiction</td>\n",
       "      <td>18</td>\n",
       "      <td>154 min</td>\n",
       "      <td>Crime, Drama</td>\n",
       "      <td>8.9</td>\n",
       "      <td>The lives of two mob hitmen, a boxer, a gangst...</td>\n",
       "      <td>Quentin Tarantino</td>\n",
       "      <td>('John Travolta',), ('Uma Thurman',), ('Samuel...</td>\n",
       "      <td>20,11,013</td>\n",
       "      <td>$107.93M</td>\n",
       "    </tr>\n",
       "  </tbody>\n",
       "</table>\n",
       "</div>"
      ],
      "text/plain": [
       "                                              poster  \\\n",
       "0  https://m.media-amazon.com/images/S/sash/4Fyxw...   \n",
       "1  https://m.media-amazon.com/images/S/sash/4Fyxw...   \n",
       "2  https://m.media-amazon.com/images/S/sash/4Fyxw...   \n",
       "3  https://m.media-amazon.com/images/S/sash/4Fyxw...   \n",
       "4  https://m.media-amazon.com/images/S/sash/4Fyxw...   \n",
       "\n",
       "                      title certificate  runtime                      genre  \\\n",
       "0  The Shawshank Redemption          15  142 min                      Drama   \n",
       "1           The Dark Knight         12A  152 min       Action, Crime, Drama   \n",
       "2                 Inception         12A  148 min  Action, Adventure, Sci-Fi   \n",
       "3                Fight Club          18  139 min                      Drama   \n",
       "4              Pulp Fiction          18  154 min               Crime, Drama   \n",
       "\n",
       "   rating                                              about  \\\n",
       "0     9.3  Two imprisoned men bond over a number of years...   \n",
       "1     9.0  When the menace known as the Joker wreaks havo...   \n",
       "2     8.8  A thief who steals corporate secrets through t...   \n",
       "3     8.8  An insomniac office worker and a devil-may-car...   \n",
       "4     8.9  The lives of two mob hitmen, a boxer, a gangst...   \n",
       "\n",
       "            director                                              stars  \\\n",
       "0     Frank Darabont  ('Tim Robbins',), ('Morgan Freeman',), ('Bob G...   \n",
       "1  Christopher Nolan  ('Christian Bale',), ('Heath Ledger',), ('Aaro...   \n",
       "2  Christopher Nolan  ('Leonardo DiCaprio',), ('Joseph Gordon-Levitt...   \n",
       "3      David Fincher  ('Brad Pitt',), ('Edward Norton',), ('Meat Loa...   \n",
       "4  Quentin Tarantino  ('John Travolta',), ('Uma Thurman',), ('Samuel...   \n",
       "\n",
       "       votes gross_earn  \n",
       "0  26,26,905    $28.34M  \n",
       "1  25,98,173   $534.86M  \n",
       "2  23,04,062   $292.58M  \n",
       "3  20,71,088    $37.03M  \n",
       "4  20,11,013   $107.93M  "
      ]
     },
     "execution_count": 2,
     "metadata": {},
     "output_type": "execute_result"
    }
   ],
   "source": [
    "import pandas as pd\n",
    "dataset = pd.read_csv('movies.csv')\n",
    "dataset.head()"
   ]
  },
  {
   "cell_type": "code",
   "execution_count": null,
   "id": "bb2f1f90",
   "metadata": {},
   "outputs": [],
   "source": [
    "'''\n",
    "Оценим размер, типы данных и наличие дубликатов\n",
    "'''"
   ]
  },
  {
   "cell_type": "code",
   "execution_count": 3,
   "id": "14519c5b",
   "metadata": {},
   "outputs": [
    {
     "data": {
      "text/plain": [
       "(5000, 11)"
      ]
     },
     "execution_count": 3,
     "metadata": {},
     "output_type": "execute_result"
    }
   ],
   "source": [
    "dataset.shape"
   ]
  },
  {
   "cell_type": "code",
   "execution_count": 4,
   "id": "d8295c2f",
   "metadata": {},
   "outputs": [
    {
     "name": "stdout",
     "output_type": "stream",
     "text": [
      "<class 'pandas.core.frame.DataFrame'>\n",
      "RangeIndex: 5000 entries, 0 to 4999\n",
      "Data columns (total 11 columns):\n",
      " #   Column       Non-Null Count  Dtype  \n",
      "---  ------       --------------  -----  \n",
      " 0   poster       5000 non-null   object \n",
      " 1   title        5000 non-null   object \n",
      " 2   certificate  5000 non-null   object \n",
      " 3   runtime      5000 non-null   object \n",
      " 4   genre        4970 non-null   object \n",
      " 5   rating       5000 non-null   float64\n",
      " 6   about        4986 non-null   object \n",
      " 7   director     5000 non-null   object \n",
      " 8   stars        5000 non-null   object \n",
      " 9   votes        5000 non-null   object \n",
      " 10  gross_earn   4585 non-null   object \n",
      "dtypes: float64(1), object(10)\n",
      "memory usage: 429.8+ KB\n"
     ]
    }
   ],
   "source": [
    "dataset.info()"
   ]
  },
  {
   "cell_type": "code",
   "execution_count": null,
   "id": "0b293c38",
   "metadata": {},
   "outputs": [],
   "source": [
    "'''\n",
    "Оценим пропущенные значения по признаку gross_earn\n",
    "'''"
   ]
  },
  {
   "cell_type": "code",
   "execution_count": 5,
   "id": "f45af436",
   "metadata": {},
   "outputs": [
    {
     "data": {
      "text/plain": [
       "415"
      ]
     },
     "execution_count": 5,
     "metadata": {},
     "output_type": "execute_result"
    }
   ],
   "source": [
    "dataset['gross_earn'].isna().sum()"
   ]
  },
  {
   "cell_type": "code",
   "execution_count": null,
   "id": "4682389f",
   "metadata": {},
   "outputs": [],
   "source": [
    "'''\n",
    "Не удаляем, т.к. требований нет, и информация по пропущенным значениям может быть интересной.\n",
    "'''"
   ]
  },
  {
   "cell_type": "code",
   "execution_count": null,
   "id": "b52bbe13",
   "metadata": {},
   "outputs": [],
   "source": [
    "'''\n",
    "Обработка колонок runtime и gross_earn: приведение к числовому типу\n",
    "'''"
   ]
  },
  {
   "cell_type": "code",
   "execution_count": 6,
   "id": "7820be09",
   "metadata": {},
   "outputs": [
    {
     "data": {
      "text/plain": [
       "0              142 min\n",
       "1              152 min\n",
       "2              148 min\n",
       "3              139 min\n",
       "4              154 min\n",
       "             ...      \n",
       "4995           102 min\n",
       "4996            94 min\n",
       "4997    Drama, Romance\n",
       "4998            92 min\n",
       "4999           120 min\n",
       "Name: runtime, Length: 5000, dtype: object"
      ]
     },
     "execution_count": 6,
     "metadata": {},
     "output_type": "execute_result"
    }
   ],
   "source": [
    "dataset['runtime']"
   ]
  },
  {
   "cell_type": "code",
   "execution_count": null,
   "id": "a9ed2fc2",
   "metadata": {},
   "outputs": [],
   "source": [
    "'''\n",
    "Попалось значение с ошибочной информацией, а именно с жанрами.\n",
    "Проверим другим способом.\n",
    "'''"
   ]
  },
  {
   "cell_type": "code",
   "execution_count": 7,
   "id": "1b0fc231",
   "metadata": {},
   "outputs": [
    {
     "data": {
      "text/plain": [
       "array(['142 min', '152 min', '148 min', '139 min', '154 min', '178 min',\n",
       "       '136 min', '201 min', '175 min', '164 min', '179 min', '127 min',\n",
       "       '143 min', '155 min', '140 min', '165 min', '169 min', '121 min',\n",
       "       '118 min', '162 min', '153 min', '151 min', '195 min', '113 min',\n",
       "       '130 min', '124 min', '122 min', '194 min', '132 min', '202 min',\n",
       "       '138 min', '119 min', '189 min', '180 min', '137 min', '106 min',\n",
       "       '111 min', '116 min', '145 min', '110 min', '98 min', '107 min',\n",
       "       '126 min', '100 min', '131 min', '133 min', '103 min', '108 min',\n",
       "       '96 min', '99 min', '115 min', '88 min', '120 min', '81 min',\n",
       "       '135 min', '146 min', '117 min', '104 min', '92 min', '91 min',\n",
       "       '102 min', '149 min', '170 min', '112 min', '101 min', '141 min',\n",
       "       '144 min', '114 min', '150 min', '90 min', '161 min', '128 min',\n",
       "       '93 min', '129 min', '166 min', '147 min', '134 min', '109 min',\n",
       "       '105 min', '125 min', '156 min', '123 min', '95 min', '157 min',\n",
       "       '163 min', '158 min', '89 min', '187 min', '167 min', '84 min',\n",
       "       '94 min', '85 min', '172 min', '160 min', '168 min', '86 min',\n",
       "       '97 min', '87 min', '183 min', '188 min', '207 min', '159 min',\n",
       "       '76 min', '229 min', '238 min', '83 min', '218 min', '77 min',\n",
       "       '181 min', '191 min', '80 min', '212 min', '78 min', '79 min',\n",
       "       '82 min', '74 min', '185 min', '75 min', '197 min', '69 min',\n",
       "       '64 min', '224 min', '68 min', '210 min', '177 min', '193 min',\n",
       "       '67 min', '174 min', '70 min', '220 min', '321 min', 'Comedy',\n",
       "       '186 min', 'Action, Crime, Mystery', '198 min', '58 min',\n",
       "       'Comedy, Drama, Romance', 'Comedy, Romance', '192 min', '242 min',\n",
       "       'Horror', '204 min', 'Comedy, Drama', '171 min', '63 min',\n",
       "       'Horror, Sci-Fi, Thriller', 'Action, Biography, Drama', '182 min',\n",
       "       '176 min', '196 min', 'Drama', '205 min', 'Action, Drama, War',\n",
       "       '71 min', '259 min', '45 min', 'Fantasy, Romance',\n",
       "       'Action, Crime, Comedy', 'Crime, Drama, Mystery',\n",
       "       'Action, Adventure, Drama', 'Drama, Horror, Mystery',\n",
       "       'Crime, Mystery', '213 min', '72 min', '216 min',\n",
       "       'Comedy, Western', '317 min', 'Adventure, Drama, Romance',\n",
       "       'Fantasy, Horror', 'Adventure, Comedy', 'Comedy, Family',\n",
       "       'Adventure, Comedy, Romance', '366 min', 'Action, Comedy',\n",
       "       'Adventure, Comedy, Fantasy', 'Action, Crime, Thriller',\n",
       "       'Action, Adventure, Sci-Fi', 'Drama, Romance'], dtype=object)"
      ]
     },
     "execution_count": 7,
     "metadata": {},
     "output_type": "execute_result"
    }
   ],
   "source": [
    "dataset['runtime'].unique()"
   ]
  },
  {
   "cell_type": "code",
   "execution_count": null,
   "id": "e3847cc1",
   "metadata": {},
   "outputs": [],
   "source": [
    "'''\n",
    "Исключим нецифровые значения\n",
    "'''"
   ]
  },
  {
   "cell_type": "code",
   "execution_count": 9,
   "id": "6a2da04c",
   "metadata": {},
   "outputs": [
    {
     "data": {
      "text/plain": [
       "0       142\n",
       "1       152\n",
       "2       148\n",
       "3       139\n",
       "4       154\n",
       "       ... \n",
       "4995    102\n",
       "4996     94\n",
       "4997       \n",
       "4998     92\n",
       "4999    120\n",
       "Name: runtime, Length: 5000, dtype: object"
      ]
     },
     "execution_count": 9,
     "metadata": {},
     "output_type": "execute_result"
    }
   ],
   "source": [
    "import re\n",
    "\n",
    "def clear_runtime(runtime):\n",
    "    return re.sub('\\D', '', runtime)\n",
    "\n",
    "dataset['runtime'].apply(clear_runtime)"
   ]
  },
  {
   "cell_type": "code",
   "execution_count": 11,
   "id": "cd04216a",
   "metadata": {},
   "outputs": [
    {
     "data": {
      "text/plain": [
       "0       142\n",
       "1       152\n",
       "2       148\n",
       "3       139\n",
       "4       154\n",
       "       ... \n",
       "4995    102\n",
       "4996     94\n",
       "4997       \n",
       "4998     92\n",
       "4999    120\n",
       "Name: runtime_clear, Length: 5000, dtype: object"
      ]
     },
     "execution_count": 11,
     "metadata": {},
     "output_type": "execute_result"
    }
   ],
   "source": [
    "dataset['runtime_clear'] = dataset['runtime'].apply(clear_runtime)\n",
    "dataset['runtime_clear']"
   ]
  },
  {
   "cell_type": "code",
   "execution_count": null,
   "id": "f5b9a68c",
   "metadata": {},
   "outputs": [],
   "source": [
    "'''\n",
    "Проверим, есть ли действительно пропущенные значения\n",
    "'''"
   ]
  },
  {
   "cell_type": "code",
   "execution_count": 12,
   "id": "b51e4732",
   "metadata": {},
   "outputs": [
    {
     "data": {
      "text/plain": [
       "0       False\n",
       "1       False\n",
       "2       False\n",
       "3       False\n",
       "4       False\n",
       "        ...  \n",
       "4995    False\n",
       "4996    False\n",
       "4997    False\n",
       "4998    False\n",
       "4999    False\n",
       "Name: runtime_clear, Length: 5000, dtype: bool"
      ]
     },
     "execution_count": 12,
     "metadata": {},
     "output_type": "execute_result"
    }
   ],
   "source": [
    "dataset['runtime_clear'].isna()"
   ]
  },
  {
   "cell_type": "code",
   "execution_count": 13,
   "id": "c663d4a8",
   "metadata": {},
   "outputs": [
    {
     "data": {
      "text/plain": [
       "''"
      ]
     },
     "execution_count": 13,
     "metadata": {},
     "output_type": "execute_result"
    }
   ],
   "source": [
    "dataset['runtime_clear'][4997]"
   ]
  },
  {
   "cell_type": "code",
   "execution_count": 14,
   "id": "fdc58b67",
   "metadata": {},
   "outputs": [
    {
     "data": {
      "text/plain": [
       "str"
      ]
     },
     "execution_count": 14,
     "metadata": {},
     "output_type": "execute_result"
    }
   ],
   "source": [
    "type(dataset['runtime_clear'][4997])"
   ]
  },
  {
   "cell_type": "code",
   "execution_count": null,
   "id": "5356c3f7",
   "metadata": {},
   "outputs": [],
   "source": [
    "'''\n",
    "Отфильтруtv датасет, исключив все такие значения (строковые). \n",
    "'''"
   ]
  },
  {
   "cell_type": "code",
   "execution_count": 15,
   "id": "918f22af",
   "metadata": {},
   "outputs": [],
   "source": [
    "dataset = dataset[dataset['runtime_clear']!='']"
   ]
  },
  {
   "cell_type": "code",
   "execution_count": 16,
   "id": "c2f9f763",
   "metadata": {},
   "outputs": [
    {
     "data": {
      "text/plain": [
       "(4970, 12)"
      ]
     },
     "execution_count": 16,
     "metadata": {},
     "output_type": "execute_result"
    }
   ],
   "source": [
    "dataset.shape"
   ]
  },
  {
   "cell_type": "code",
   "execution_count": 17,
   "id": "26518bf7",
   "metadata": {},
   "outputs": [
    {
     "name": "stdout",
     "output_type": "stream",
     "text": [
      "<class 'pandas.core.frame.DataFrame'>\n",
      "Int64Index: 4970 entries, 0 to 4999\n",
      "Data columns (total 12 columns):\n",
      " #   Column         Non-Null Count  Dtype  \n",
      "---  ------         --------------  -----  \n",
      " 0   poster         4970 non-null   object \n",
      " 1   title          4970 non-null   object \n",
      " 2   certificate    4970 non-null   object \n",
      " 3   runtime        4970 non-null   object \n",
      " 4   genre          4970 non-null   object \n",
      " 5   rating         4970 non-null   float64\n",
      " 6   about          4956 non-null   object \n",
      " 7   director       4970 non-null   object \n",
      " 8   stars          4970 non-null   object \n",
      " 9   votes          4970 non-null   object \n",
      " 10  gross_earn     4574 non-null   object \n",
      " 11  runtime_clear  4970 non-null   object \n",
      "dtypes: float64(1), object(11)\n",
      "memory usage: 504.8+ KB\n"
     ]
    }
   ],
   "source": [
    "dataset.info()"
   ]
  },
  {
   "cell_type": "code",
   "execution_count": null,
   "id": "9092c287",
   "metadata": {},
   "outputs": [],
   "source": [
    "'''\n",
    "Приведем признак runtime_clear в формат int.\n",
    "'''"
   ]
  },
  {
   "cell_type": "code",
   "execution_count": 18,
   "id": "ff811566",
   "metadata": {},
   "outputs": [],
   "source": [
    "dataset['runtime_clear'] = dataset['runtime_clear'].astype(int)"
   ]
  },
  {
   "cell_type": "code",
   "execution_count": 19,
   "id": "1183f0bb",
   "metadata": {},
   "outputs": [
    {
     "name": "stdout",
     "output_type": "stream",
     "text": [
      "<class 'pandas.core.frame.DataFrame'>\n",
      "Int64Index: 4970 entries, 0 to 4999\n",
      "Data columns (total 12 columns):\n",
      " #   Column         Non-Null Count  Dtype  \n",
      "---  ------         --------------  -----  \n",
      " 0   poster         4970 non-null   object \n",
      " 1   title          4970 non-null   object \n",
      " 2   certificate    4970 non-null   object \n",
      " 3   runtime        4970 non-null   object \n",
      " 4   genre          4970 non-null   object \n",
      " 5   rating         4970 non-null   float64\n",
      " 6   about          4956 non-null   object \n",
      " 7   director       4970 non-null   object \n",
      " 8   stars          4970 non-null   object \n",
      " 9   votes          4970 non-null   object \n",
      " 10  gross_earn     4574 non-null   object \n",
      " 11  runtime_clear  4970 non-null   int32  \n",
      "dtypes: float64(1), int32(1), object(10)\n",
      "memory usage: 485.4+ KB\n"
     ]
    }
   ],
   "source": [
    "dataset.info()"
   ]
  },
  {
   "cell_type": "code",
   "execution_count": null,
   "id": "dd19d3b9",
   "metadata": {},
   "outputs": [],
   "source": [
    "'''\n",
    "Приведем gross_earn к числовому типу данных.\n",
    "'''"
   ]
  },
  {
   "cell_type": "code",
   "execution_count": 20,
   "id": "ec90ee12",
   "metadata": {},
   "outputs": [
    {
     "data": {
      "text/plain": [
       "4994       NaN\n",
       "4995    $9.40M\n",
       "4996       NaN\n",
       "4998    $6.67M\n",
       "4999    $8.20M\n",
       "Name: gross_earn, dtype: object"
      ]
     },
     "execution_count": 20,
     "metadata": {},
     "output_type": "execute_result"
    }
   ],
   "source": [
    "dataset['gross_earn'].tail()"
   ]
  },
  {
   "cell_type": "code",
   "execution_count": 21,
   "id": "a2f1a6a3",
   "metadata": {},
   "outputs": [
    {
     "ename": "TypeError",
     "evalue": "expected string or bytes-like object",
     "output_type": "error",
     "traceback": [
      "\u001b[1;31m---------------------------------------------------------------------------\u001b[0m",
      "\u001b[1;31mTypeError\u001b[0m                                 Traceback (most recent call last)",
      "\u001b[1;32m~\\AppData\\Local\\Temp\\ipykernel_21928\\1239718111.py\u001b[0m in \u001b[0;36m<module>\u001b[1;34m\u001b[0m\n\u001b[0;32m      2\u001b[0m   \u001b[1;32mreturn\u001b[0m \u001b[0mre\u001b[0m\u001b[1;33m.\u001b[0m\u001b[0msub\u001b[0m\u001b[1;33m(\u001b[0m\u001b[1;34m'\\D'\u001b[0m\u001b[1;33m,\u001b[0m \u001b[1;34m''\u001b[0m\u001b[1;33m,\u001b[0m \u001b[0mgross_earn\u001b[0m\u001b[1;33m)\u001b[0m\u001b[1;33m\u001b[0m\u001b[1;33m\u001b[0m\u001b[0m\n\u001b[0;32m      3\u001b[0m \u001b[1;33m\u001b[0m\u001b[0m\n\u001b[1;32m----> 4\u001b[1;33m \u001b[0mdataset\u001b[0m\u001b[1;33m[\u001b[0m\u001b[1;34m'gross_earn'\u001b[0m\u001b[1;33m]\u001b[0m \u001b[1;33m=\u001b[0m \u001b[0mdataset\u001b[0m\u001b[1;33m[\u001b[0m\u001b[1;34m'gross_earn'\u001b[0m\u001b[1;33m]\u001b[0m\u001b[1;33m.\u001b[0m\u001b[0mapply\u001b[0m\u001b[1;33m(\u001b[0m\u001b[0mclear_gross_earn\u001b[0m\u001b[1;33m)\u001b[0m\u001b[1;33m\u001b[0m\u001b[1;33m\u001b[0m\u001b[0m\n\u001b[0m",
      "\u001b[1;32m~\\anaconda3\\lib\\site-packages\\pandas\\core\\series.py\u001b[0m in \u001b[0;36mapply\u001b[1;34m(self, func, convert_dtype, args, **kwargs)\u001b[0m\n\u001b[0;32m   4431\u001b[0m         \u001b[0mdtype\u001b[0m\u001b[1;33m:\u001b[0m \u001b[0mfloat64\u001b[0m\u001b[1;33m\u001b[0m\u001b[1;33m\u001b[0m\u001b[0m\n\u001b[0;32m   4432\u001b[0m         \"\"\"\n\u001b[1;32m-> 4433\u001b[1;33m         \u001b[1;32mreturn\u001b[0m \u001b[0mSeriesApply\u001b[0m\u001b[1;33m(\u001b[0m\u001b[0mself\u001b[0m\u001b[1;33m,\u001b[0m \u001b[0mfunc\u001b[0m\u001b[1;33m,\u001b[0m \u001b[0mconvert_dtype\u001b[0m\u001b[1;33m,\u001b[0m \u001b[0margs\u001b[0m\u001b[1;33m,\u001b[0m \u001b[0mkwargs\u001b[0m\u001b[1;33m)\u001b[0m\u001b[1;33m.\u001b[0m\u001b[0mapply\u001b[0m\u001b[1;33m(\u001b[0m\u001b[1;33m)\u001b[0m\u001b[1;33m\u001b[0m\u001b[1;33m\u001b[0m\u001b[0m\n\u001b[0m\u001b[0;32m   4434\u001b[0m \u001b[1;33m\u001b[0m\u001b[0m\n\u001b[0;32m   4435\u001b[0m     def _reduce(\n",
      "\u001b[1;32m~\\anaconda3\\lib\\site-packages\\pandas\\core\\apply.py\u001b[0m in \u001b[0;36mapply\u001b[1;34m(self)\u001b[0m\n\u001b[0;32m   1086\u001b[0m             \u001b[1;32mreturn\u001b[0m \u001b[0mself\u001b[0m\u001b[1;33m.\u001b[0m\u001b[0mapply_str\u001b[0m\u001b[1;33m(\u001b[0m\u001b[1;33m)\u001b[0m\u001b[1;33m\u001b[0m\u001b[1;33m\u001b[0m\u001b[0m\n\u001b[0;32m   1087\u001b[0m \u001b[1;33m\u001b[0m\u001b[0m\n\u001b[1;32m-> 1088\u001b[1;33m         \u001b[1;32mreturn\u001b[0m \u001b[0mself\u001b[0m\u001b[1;33m.\u001b[0m\u001b[0mapply_standard\u001b[0m\u001b[1;33m(\u001b[0m\u001b[1;33m)\u001b[0m\u001b[1;33m\u001b[0m\u001b[1;33m\u001b[0m\u001b[0m\n\u001b[0m\u001b[0;32m   1089\u001b[0m \u001b[1;33m\u001b[0m\u001b[0m\n\u001b[0;32m   1090\u001b[0m     \u001b[1;32mdef\u001b[0m \u001b[0magg\u001b[0m\u001b[1;33m(\u001b[0m\u001b[0mself\u001b[0m\u001b[1;33m)\u001b[0m\u001b[1;33m:\u001b[0m\u001b[1;33m\u001b[0m\u001b[1;33m\u001b[0m\u001b[0m\n",
      "\u001b[1;32m~\\anaconda3\\lib\\site-packages\\pandas\\core\\apply.py\u001b[0m in \u001b[0;36mapply_standard\u001b[1;34m(self)\u001b[0m\n\u001b[0;32m   1141\u001b[0m                 \u001b[1;31m# List[Union[Callable[..., Any], str]]]]]\"; expected\u001b[0m\u001b[1;33m\u001b[0m\u001b[1;33m\u001b[0m\u001b[0m\n\u001b[0;32m   1142\u001b[0m                 \u001b[1;31m# \"Callable[[Any], Any]\"\u001b[0m\u001b[1;33m\u001b[0m\u001b[1;33m\u001b[0m\u001b[0m\n\u001b[1;32m-> 1143\u001b[1;33m                 mapped = lib.map_infer(\n\u001b[0m\u001b[0;32m   1144\u001b[0m                     \u001b[0mvalues\u001b[0m\u001b[1;33m,\u001b[0m\u001b[1;33m\u001b[0m\u001b[1;33m\u001b[0m\u001b[0m\n\u001b[0;32m   1145\u001b[0m                     \u001b[0mf\u001b[0m\u001b[1;33m,\u001b[0m  \u001b[1;31m# type: ignore[arg-type]\u001b[0m\u001b[1;33m\u001b[0m\u001b[1;33m\u001b[0m\u001b[0m\n",
      "\u001b[1;32m~\\anaconda3\\lib\\site-packages\\pandas\\_libs\\lib.pyx\u001b[0m in \u001b[0;36mpandas._libs.lib.map_infer\u001b[1;34m()\u001b[0m\n",
      "\u001b[1;32m~\\AppData\\Local\\Temp\\ipykernel_21928\\1239718111.py\u001b[0m in \u001b[0;36mclear_gross_earn\u001b[1;34m(gross_earn)\u001b[0m\n\u001b[0;32m      1\u001b[0m \u001b[1;32mdef\u001b[0m \u001b[0mclear_gross_earn\u001b[0m\u001b[1;33m(\u001b[0m\u001b[0mgross_earn\u001b[0m\u001b[1;33m)\u001b[0m\u001b[1;33m:\u001b[0m\u001b[1;33m\u001b[0m\u001b[1;33m\u001b[0m\u001b[0m\n\u001b[1;32m----> 2\u001b[1;33m   \u001b[1;32mreturn\u001b[0m \u001b[0mre\u001b[0m\u001b[1;33m.\u001b[0m\u001b[0msub\u001b[0m\u001b[1;33m(\u001b[0m\u001b[1;34m'\\D'\u001b[0m\u001b[1;33m,\u001b[0m \u001b[1;34m''\u001b[0m\u001b[1;33m,\u001b[0m \u001b[0mgross_earn\u001b[0m\u001b[1;33m)\u001b[0m\u001b[1;33m\u001b[0m\u001b[1;33m\u001b[0m\u001b[0m\n\u001b[0m\u001b[0;32m      3\u001b[0m \u001b[1;33m\u001b[0m\u001b[0m\n\u001b[0;32m      4\u001b[0m \u001b[0mdataset\u001b[0m\u001b[1;33m[\u001b[0m\u001b[1;34m'gross_earn'\u001b[0m\u001b[1;33m]\u001b[0m \u001b[1;33m=\u001b[0m \u001b[0mdataset\u001b[0m\u001b[1;33m[\u001b[0m\u001b[1;34m'gross_earn'\u001b[0m\u001b[1;33m]\u001b[0m\u001b[1;33m.\u001b[0m\u001b[0mapply\u001b[0m\u001b[1;33m(\u001b[0m\u001b[0mclear_gross_earn\u001b[0m\u001b[1;33m)\u001b[0m\u001b[1;33m\u001b[0m\u001b[1;33m\u001b[0m\u001b[0m\n",
      "\u001b[1;32m~\\anaconda3\\lib\\re.py\u001b[0m in \u001b[0;36msub\u001b[1;34m(pattern, repl, string, count, flags)\u001b[0m\n\u001b[0;32m    208\u001b[0m     \u001b[0ma\u001b[0m \u001b[0mcallable\u001b[0m\u001b[1;33m,\u001b[0m \u001b[0mit\u001b[0m\u001b[0;31m'\u001b[0m\u001b[0ms\u001b[0m \u001b[0mpassed\u001b[0m \u001b[0mthe\u001b[0m \u001b[0mMatch\u001b[0m \u001b[0mobject\u001b[0m \u001b[1;32mand\u001b[0m \u001b[0mmust\u001b[0m \u001b[1;32mreturn\u001b[0m\u001b[1;33m\u001b[0m\u001b[1;33m\u001b[0m\u001b[0m\n\u001b[0;32m    209\u001b[0m     a replacement string to be used.\"\"\"\n\u001b[1;32m--> 210\u001b[1;33m     \u001b[1;32mreturn\u001b[0m \u001b[0m_compile\u001b[0m\u001b[1;33m(\u001b[0m\u001b[0mpattern\u001b[0m\u001b[1;33m,\u001b[0m \u001b[0mflags\u001b[0m\u001b[1;33m)\u001b[0m\u001b[1;33m.\u001b[0m\u001b[0msub\u001b[0m\u001b[1;33m(\u001b[0m\u001b[0mrepl\u001b[0m\u001b[1;33m,\u001b[0m \u001b[0mstring\u001b[0m\u001b[1;33m,\u001b[0m \u001b[0mcount\u001b[0m\u001b[1;33m)\u001b[0m\u001b[1;33m\u001b[0m\u001b[1;33m\u001b[0m\u001b[0m\n\u001b[0m\u001b[0;32m    211\u001b[0m \u001b[1;33m\u001b[0m\u001b[0m\n\u001b[0;32m    212\u001b[0m \u001b[1;32mdef\u001b[0m \u001b[0msubn\u001b[0m\u001b[1;33m(\u001b[0m\u001b[0mpattern\u001b[0m\u001b[1;33m,\u001b[0m \u001b[0mrepl\u001b[0m\u001b[1;33m,\u001b[0m \u001b[0mstring\u001b[0m\u001b[1;33m,\u001b[0m \u001b[0mcount\u001b[0m\u001b[1;33m=\u001b[0m\u001b[1;36m0\u001b[0m\u001b[1;33m,\u001b[0m \u001b[0mflags\u001b[0m\u001b[1;33m=\u001b[0m\u001b[1;36m0\u001b[0m\u001b[1;33m)\u001b[0m\u001b[1;33m:\u001b[0m\u001b[1;33m\u001b[0m\u001b[1;33m\u001b[0m\u001b[0m\n",
      "\u001b[1;31mTypeError\u001b[0m: expected string or bytes-like object"
     ]
    }
   ],
   "source": [
    "def clear_gross_earn(gross_earn):\n",
    "  return re.sub('\\D', '', gross_earn)\n",
    "\n",
    "dataset['gross_earn'] = dataset['gross_earn'].apply(clear_gross_earn)"
   ]
  },
  {
   "cell_type": "code",
   "execution_count": null,
   "id": "d2946b3b",
   "metadata": {},
   "outputs": [],
   "source": [
    "'''\n",
    "Есть пропущенные значения\n",
    "'''"
   ]
  },
  {
   "cell_type": "code",
   "execution_count": 22,
   "id": "43b9c41a",
   "metadata": {},
   "outputs": [
    {
     "data": {
      "text/plain": [
       "396"
      ]
     },
     "execution_count": 22,
     "metadata": {},
     "output_type": "execute_result"
    }
   ],
   "source": [
    "dataset['gross_earn'].isna().sum()"
   ]
  },
  {
   "cell_type": "code",
   "execution_count": null,
   "id": "c339682d",
   "metadata": {},
   "outputs": [],
   "source": [
    "'''\n",
    "Обработаем эти значения, заменив на nan\n",
    "'''"
   ]
  },
  {
   "cell_type": "code",
   "execution_count": 30,
   "id": "92b85236",
   "metadata": {},
   "outputs": [],
   "source": [
    "import numpy as np\n",
    "from numpy import int64\n",
    "\n",
    "def clear_gross_earn(gross_earn):\n",
    "  if pd.isna(gross_earn):\n",
    "    return np.nan\n",
    "  else:\n",
    "    return re.sub('\\D', '', gross_earn)\n",
    "\n",
    "dataset['gross_earn'] = dataset['gross_earn'].apply(clear_gross_earn)\n",
    "\n",
    "dataset['gross_earn_clear'] = dataset['gross_earn'].apply(clear_gross_earn)"
   ]
  },
  {
   "cell_type": "code",
   "execution_count": 32,
   "id": "bce2c6a7",
   "metadata": {},
   "outputs": [],
   "source": [
    "dataset['gross_earn_clear'] = dataset['gross_earn_clear'].astype('Int64')"
   ]
  },
  {
   "cell_type": "code",
   "execution_count": 33,
   "id": "059a5d81",
   "metadata": {},
   "outputs": [
    {
     "data": {
      "text/plain": [
       "4994    <NA>\n",
       "4995     940\n",
       "4996    <NA>\n",
       "4998     667\n",
       "4999     820\n",
       "Name: gross_earn_clear, dtype: Int64"
      ]
     },
     "execution_count": 33,
     "metadata": {},
     "output_type": "execute_result"
    }
   ],
   "source": [
    "dataset['gross_earn_clear'].tail()"
   ]
  },
  {
   "cell_type": "code",
   "execution_count": 34,
   "id": "8f9db31c",
   "metadata": {},
   "outputs": [
    {
     "name": "stdout",
     "output_type": "stream",
     "text": [
      "<class 'pandas.core.frame.DataFrame'>\n",
      "Int64Index: 4970 entries, 0 to 4999\n",
      "Data columns (total 13 columns):\n",
      " #   Column            Non-Null Count  Dtype  \n",
      "---  ------            --------------  -----  \n",
      " 0   poster            4970 non-null   object \n",
      " 1   title             4970 non-null   object \n",
      " 2   certificate       4970 non-null   object \n",
      " 3   runtime           4970 non-null   object \n",
      " 4   genre             4970 non-null   object \n",
      " 5   rating            4970 non-null   float64\n",
      " 6   about             4956 non-null   object \n",
      " 7   director          4970 non-null   object \n",
      " 8   stars             4970 non-null   object \n",
      " 9   votes             4970 non-null   object \n",
      " 10  gross_earn        4574 non-null   object \n",
      " 11  runtime_clear     4970 non-null   int32  \n",
      " 12  gross_earn_clear  4574 non-null   Int64  \n",
      "dtypes: Int64(1), float64(1), int32(1), object(10)\n",
      "memory usage: 529.0+ KB\n"
     ]
    }
   ],
   "source": [
    "dataset.info()"
   ]
  },
  {
   "cell_type": "code",
   "execution_count": null,
   "id": "8abc139b",
   "metadata": {},
   "outputs": [],
   "source": [
    "'''\n",
    "Сортировка по рейтингу\n",
    "'''"
   ]
  },
  {
   "cell_type": "code",
   "execution_count": 35,
   "id": "43fb7479",
   "metadata": {},
   "outputs": [
    {
     "data": {
      "text/html": [
       "<div>\n",
       "<style scoped>\n",
       "    .dataframe tbody tr th:only-of-type {\n",
       "        vertical-align: middle;\n",
       "    }\n",
       "\n",
       "    .dataframe tbody tr th {\n",
       "        vertical-align: top;\n",
       "    }\n",
       "\n",
       "    .dataframe thead th {\n",
       "        text-align: right;\n",
       "    }\n",
       "</style>\n",
       "<table border=\"1\" class=\"dataframe\">\n",
       "  <thead>\n",
       "    <tr style=\"text-align: right;\">\n",
       "      <th></th>\n",
       "      <th>poster</th>\n",
       "      <th>title</th>\n",
       "      <th>certificate</th>\n",
       "      <th>runtime</th>\n",
       "      <th>genre</th>\n",
       "      <th>rating</th>\n",
       "      <th>about</th>\n",
       "      <th>director</th>\n",
       "      <th>stars</th>\n",
       "      <th>votes</th>\n",
       "      <th>gross_earn</th>\n",
       "      <th>runtime_clear</th>\n",
       "      <th>gross_earn_clear</th>\n",
       "    </tr>\n",
       "  </thead>\n",
       "  <tbody>\n",
       "    <tr>\n",
       "      <th>0</th>\n",
       "      <td>https://m.media-amazon.com/images/S/sash/4Fyxw...</td>\n",
       "      <td>The Shawshank Redemption</td>\n",
       "      <td>15</td>\n",
       "      <td>142 min</td>\n",
       "      <td>Drama</td>\n",
       "      <td>9.3</td>\n",
       "      <td>Two imprisoned men bond over a number of years...</td>\n",
       "      <td>Frank Darabont</td>\n",
       "      <td>('Tim Robbins',), ('Morgan Freeman',), ('Bob G...</td>\n",
       "      <td>26,26,905</td>\n",
       "      <td>2834</td>\n",
       "      <td>142</td>\n",
       "      <td>2834</td>\n",
       "    </tr>\n",
       "    <tr>\n",
       "      <th>3788</th>\n",
       "      <td>https://m.media-amazon.com/images/S/sash/4Fyxw...</td>\n",
       "      <td>Hababam Sinifi</td>\n",
       "      <td>12A</td>\n",
       "      <td>87 min</td>\n",
       "      <td>Comedy, Drama</td>\n",
       "      <td>9.2</td>\n",
       "      <td>Lazy, uneducated students share a very close b...</td>\n",
       "      <td>Ertem Egilmez</td>\n",
       "      <td>('Kemal Sunal',), ('Münir Özkul',), ('Halit Ak...</td>\n",
       "      <td>40,492</td>\n",
       "      <td>NaN</td>\n",
       "      <td>87</td>\n",
       "      <td>&lt;NA&gt;</td>\n",
       "    </tr>\n",
       "    <tr>\n",
       "      <th>9</th>\n",
       "      <td>https://m.media-amazon.com/images/S/sash/4Fyxw...</td>\n",
       "      <td>The Godfather</td>\n",
       "      <td>X</td>\n",
       "      <td>175 min</td>\n",
       "      <td>Crime, Drama</td>\n",
       "      <td>9.2</td>\n",
       "      <td>The aging patriarch of an organized crime dyna...</td>\n",
       "      <td>Francis Ford Coppola</td>\n",
       "      <td>('Marlon Brando',), ('Al Pacino',), ('James Ca...</td>\n",
       "      <td>18,19,641</td>\n",
       "      <td>13497</td>\n",
       "      <td>175</td>\n",
       "      <td>13497</td>\n",
       "    </tr>\n",
       "    <tr>\n",
       "      <th>32</th>\n",
       "      <td>https://m.media-amazon.com/images/S/sash/4Fyxw...</td>\n",
       "      <td>The Godfather: Part II</td>\n",
       "      <td>X</td>\n",
       "      <td>202 min</td>\n",
       "      <td>Crime, Drama</td>\n",
       "      <td>9.0</td>\n",
       "      <td>The early life and career of Vito Corleone in ...</td>\n",
       "      <td>Francis Ford Coppola</td>\n",
       "      <td>('Al Pacino',), ('Robert De Niro',), ('Robert ...</td>\n",
       "      <td>12,49,182</td>\n",
       "      <td>5730</td>\n",
       "      <td>202</td>\n",
       "      <td>5730</td>\n",
       "    </tr>\n",
       "    <tr>\n",
       "      <th>24</th>\n",
       "      <td>https://m.media-amazon.com/images/S/sash/4Fyxw...</td>\n",
       "      <td>Schindler's List</td>\n",
       "      <td>15</td>\n",
       "      <td>195 min</td>\n",
       "      <td>Biography, Drama, History</td>\n",
       "      <td>9.0</td>\n",
       "      <td>In German-occupied Poland during World War II,...</td>\n",
       "      <td>Steven Spielberg</td>\n",
       "      <td>('Liam Neeson',), ('Ralph Fiennes',), ('Ben Ki...</td>\n",
       "      <td>13,33,407</td>\n",
       "      <td>9690</td>\n",
       "      <td>195</td>\n",
       "      <td>9690</td>\n",
       "    </tr>\n",
       "  </tbody>\n",
       "</table>\n",
       "</div>"
      ],
      "text/plain": [
       "                                                 poster  \\\n",
       "0     https://m.media-amazon.com/images/S/sash/4Fyxw...   \n",
       "3788  https://m.media-amazon.com/images/S/sash/4Fyxw...   \n",
       "9     https://m.media-amazon.com/images/S/sash/4Fyxw...   \n",
       "32    https://m.media-amazon.com/images/S/sash/4Fyxw...   \n",
       "24    https://m.media-amazon.com/images/S/sash/4Fyxw...   \n",
       "\n",
       "                         title certificate  runtime  \\\n",
       "0     The Shawshank Redemption          15  142 min   \n",
       "3788            Hababam Sinifi         12A   87 min   \n",
       "9                The Godfather           X  175 min   \n",
       "32      The Godfather: Part II           X  202 min   \n",
       "24            Schindler's List          15  195 min   \n",
       "\n",
       "                          genre  rating  \\\n",
       "0                         Drama     9.3   \n",
       "3788              Comedy, Drama     9.2   \n",
       "9                  Crime, Drama     9.2   \n",
       "32                 Crime, Drama     9.0   \n",
       "24    Biography, Drama, History     9.0   \n",
       "\n",
       "                                                  about              director  \\\n",
       "0     Two imprisoned men bond over a number of years...        Frank Darabont   \n",
       "3788  Lazy, uneducated students share a very close b...         Ertem Egilmez   \n",
       "9     The aging patriarch of an organized crime dyna...  Francis Ford Coppola   \n",
       "32    The early life and career of Vito Corleone in ...  Francis Ford Coppola   \n",
       "24    In German-occupied Poland during World War II,...      Steven Spielberg   \n",
       "\n",
       "                                                  stars      votes gross_earn  \\\n",
       "0     ('Tim Robbins',), ('Morgan Freeman',), ('Bob G...  26,26,905       2834   \n",
       "3788  ('Kemal Sunal',), ('Münir Özkul',), ('Halit Ak...     40,492        NaN   \n",
       "9     ('Marlon Brando',), ('Al Pacino',), ('James Ca...  18,19,641      13497   \n",
       "32    ('Al Pacino',), ('Robert De Niro',), ('Robert ...  12,49,182       5730   \n",
       "24    ('Liam Neeson',), ('Ralph Fiennes',), ('Ben Ki...  13,33,407       9690   \n",
       "\n",
       "      runtime_clear  gross_earn_clear  \n",
       "0               142              2834  \n",
       "3788             87              <NA>  \n",
       "9               175             13497  \n",
       "32              202              5730  \n",
       "24              195              9690  "
      ]
     },
     "execution_count": 35,
     "metadata": {},
     "output_type": "execute_result"
    }
   ],
   "source": [
    "sorted_dataset = dataset.sort_values('rating', ascending=False)\n",
    "sorted_dataset.head()"
   ]
  },
  {
   "cell_type": "code",
   "execution_count": null,
   "id": "f8e53dc1",
   "metadata": {},
   "outputs": [],
   "source": [
    "'''\n",
    "Переопределение индексов\n",
    "'''"
   ]
  },
  {
   "cell_type": "code",
   "execution_count": 36,
   "id": "dcdb3774",
   "metadata": {},
   "outputs": [
    {
     "data": {
      "text/html": [
       "<div>\n",
       "<style scoped>\n",
       "    .dataframe tbody tr th:only-of-type {\n",
       "        vertical-align: middle;\n",
       "    }\n",
       "\n",
       "    .dataframe tbody tr th {\n",
       "        vertical-align: top;\n",
       "    }\n",
       "\n",
       "    .dataframe thead th {\n",
       "        text-align: right;\n",
       "    }\n",
       "</style>\n",
       "<table border=\"1\" class=\"dataframe\">\n",
       "  <thead>\n",
       "    <tr style=\"text-align: right;\">\n",
       "      <th></th>\n",
       "      <th>poster</th>\n",
       "      <th>title</th>\n",
       "      <th>certificate</th>\n",
       "      <th>runtime</th>\n",
       "      <th>genre</th>\n",
       "      <th>rating</th>\n",
       "      <th>about</th>\n",
       "      <th>director</th>\n",
       "      <th>stars</th>\n",
       "      <th>votes</th>\n",
       "      <th>gross_earn</th>\n",
       "      <th>runtime_clear</th>\n",
       "      <th>gross_earn_clear</th>\n",
       "    </tr>\n",
       "  </thead>\n",
       "  <tbody>\n",
       "    <tr>\n",
       "      <th>0</th>\n",
       "      <td>https://m.media-amazon.com/images/S/sash/4Fyxw...</td>\n",
       "      <td>The Shawshank Redemption</td>\n",
       "      <td>15</td>\n",
       "      <td>142 min</td>\n",
       "      <td>Drama</td>\n",
       "      <td>9.3</td>\n",
       "      <td>Two imprisoned men bond over a number of years...</td>\n",
       "      <td>Frank Darabont</td>\n",
       "      <td>('Tim Robbins',), ('Morgan Freeman',), ('Bob G...</td>\n",
       "      <td>26,26,905</td>\n",
       "      <td>2834</td>\n",
       "      <td>142</td>\n",
       "      <td>2834</td>\n",
       "    </tr>\n",
       "    <tr>\n",
       "      <th>1</th>\n",
       "      <td>https://m.media-amazon.com/images/S/sash/4Fyxw...</td>\n",
       "      <td>Hababam Sinifi</td>\n",
       "      <td>12A</td>\n",
       "      <td>87 min</td>\n",
       "      <td>Comedy, Drama</td>\n",
       "      <td>9.2</td>\n",
       "      <td>Lazy, uneducated students share a very close b...</td>\n",
       "      <td>Ertem Egilmez</td>\n",
       "      <td>('Kemal Sunal',), ('Münir Özkul',), ('Halit Ak...</td>\n",
       "      <td>40,492</td>\n",
       "      <td>NaN</td>\n",
       "      <td>87</td>\n",
       "      <td>&lt;NA&gt;</td>\n",
       "    </tr>\n",
       "    <tr>\n",
       "      <th>2</th>\n",
       "      <td>https://m.media-amazon.com/images/S/sash/4Fyxw...</td>\n",
       "      <td>The Godfather</td>\n",
       "      <td>X</td>\n",
       "      <td>175 min</td>\n",
       "      <td>Crime, Drama</td>\n",
       "      <td>9.2</td>\n",
       "      <td>The aging patriarch of an organized crime dyna...</td>\n",
       "      <td>Francis Ford Coppola</td>\n",
       "      <td>('Marlon Brando',), ('Al Pacino',), ('James Ca...</td>\n",
       "      <td>18,19,641</td>\n",
       "      <td>13497</td>\n",
       "      <td>175</td>\n",
       "      <td>13497</td>\n",
       "    </tr>\n",
       "    <tr>\n",
       "      <th>3</th>\n",
       "      <td>https://m.media-amazon.com/images/S/sash/4Fyxw...</td>\n",
       "      <td>The Godfather: Part II</td>\n",
       "      <td>X</td>\n",
       "      <td>202 min</td>\n",
       "      <td>Crime, Drama</td>\n",
       "      <td>9.0</td>\n",
       "      <td>The early life and career of Vito Corleone in ...</td>\n",
       "      <td>Francis Ford Coppola</td>\n",
       "      <td>('Al Pacino',), ('Robert De Niro',), ('Robert ...</td>\n",
       "      <td>12,49,182</td>\n",
       "      <td>5730</td>\n",
       "      <td>202</td>\n",
       "      <td>5730</td>\n",
       "    </tr>\n",
       "    <tr>\n",
       "      <th>4</th>\n",
       "      <td>https://m.media-amazon.com/images/S/sash/4Fyxw...</td>\n",
       "      <td>Schindler's List</td>\n",
       "      <td>15</td>\n",
       "      <td>195 min</td>\n",
       "      <td>Biography, Drama, History</td>\n",
       "      <td>9.0</td>\n",
       "      <td>In German-occupied Poland during World War II,...</td>\n",
       "      <td>Steven Spielberg</td>\n",
       "      <td>('Liam Neeson',), ('Ralph Fiennes',), ('Ben Ki...</td>\n",
       "      <td>13,33,407</td>\n",
       "      <td>9690</td>\n",
       "      <td>195</td>\n",
       "      <td>9690</td>\n",
       "    </tr>\n",
       "  </tbody>\n",
       "</table>\n",
       "</div>"
      ],
      "text/plain": [
       "                                              poster  \\\n",
       "0  https://m.media-amazon.com/images/S/sash/4Fyxw...   \n",
       "1  https://m.media-amazon.com/images/S/sash/4Fyxw...   \n",
       "2  https://m.media-amazon.com/images/S/sash/4Fyxw...   \n",
       "3  https://m.media-amazon.com/images/S/sash/4Fyxw...   \n",
       "4  https://m.media-amazon.com/images/S/sash/4Fyxw...   \n",
       "\n",
       "                      title certificate  runtime                      genre  \\\n",
       "0  The Shawshank Redemption          15  142 min                      Drama   \n",
       "1            Hababam Sinifi         12A   87 min              Comedy, Drama   \n",
       "2             The Godfather           X  175 min               Crime, Drama   \n",
       "3    The Godfather: Part II           X  202 min               Crime, Drama   \n",
       "4          Schindler's List          15  195 min  Biography, Drama, History   \n",
       "\n",
       "   rating                                              about  \\\n",
       "0     9.3  Two imprisoned men bond over a number of years...   \n",
       "1     9.2  Lazy, uneducated students share a very close b...   \n",
       "2     9.2  The aging patriarch of an organized crime dyna...   \n",
       "3     9.0  The early life and career of Vito Corleone in ...   \n",
       "4     9.0  In German-occupied Poland during World War II,...   \n",
       "\n",
       "               director                                              stars  \\\n",
       "0        Frank Darabont  ('Tim Robbins',), ('Morgan Freeman',), ('Bob G...   \n",
       "1         Ertem Egilmez  ('Kemal Sunal',), ('Münir Özkul',), ('Halit Ak...   \n",
       "2  Francis Ford Coppola  ('Marlon Brando',), ('Al Pacino',), ('James Ca...   \n",
       "3  Francis Ford Coppola  ('Al Pacino',), ('Robert De Niro',), ('Robert ...   \n",
       "4      Steven Spielberg  ('Liam Neeson',), ('Ralph Fiennes',), ('Ben Ki...   \n",
       "\n",
       "       votes gross_earn  runtime_clear  gross_earn_clear  \n",
       "0  26,26,905       2834            142              2834  \n",
       "1     40,492        NaN             87              <NA>  \n",
       "2  18,19,641      13497            175             13497  \n",
       "3  12,49,182       5730            202              5730  \n",
       "4  13,33,407       9690            195              9690  "
      ]
     },
     "execution_count": 36,
     "metadata": {},
     "output_type": "execute_result"
    }
   ],
   "source": [
    "sorted_dataset.reset_index(drop=True, inplace=True)\n",
    "sorted_dataset.head()"
   ]
  },
  {
   "cell_type": "code",
   "execution_count": null,
   "id": "67b0739a",
   "metadata": {},
   "outputs": [],
   "source": [
    "'''\n",
    "Сохранение датасета\n",
    "'''"
   ]
  },
  {
   "cell_type": "code",
   "execution_count": null,
   "id": "68b88b65",
   "metadata": {},
   "outputs": [],
   "source": [
    "sorted_dataset.to_csv('movies_clean.csv')"
   ]
  }
 ],
 "metadata": {
  "kernelspec": {
   "display_name": "Python 3 (ipykernel)",
   "language": "python",
   "name": "python3"
  },
  "language_info": {
   "codemirror_mode": {
    "name": "ipython",
    "version": 3
   },
   "file_extension": ".py",
   "mimetype": "text/x-python",
   "name": "python",
   "nbconvert_exporter": "python",
   "pygments_lexer": "ipython3",
   "version": "3.9.13"
  }
 },
 "nbformat": 4,
 "nbformat_minor": 5
}
